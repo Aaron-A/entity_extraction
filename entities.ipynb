{
 "cells": [
  {
   "cell_type": "code",
   "execution_count": null,
   "metadata": {},
   "outputs": [],
   "source": [
    "import nltk\n",
    "import os\n",
    "\n",
    "def download_nltk_data():\n",
    "    data_dir = nltk.data.find('tokenizers/punkt')\n",
    "    if not data_dir:\n",
    "        nltk.download('punkt', download_dir='.')\n",
    "    data_dir = nltk.data.find('taggers/averaged_perceptron_tagger')\n",
    "    if not data_dir:\n",
    "        nltk.download('averaged_perceptron_tagger', download_dir='.')\n",
    "    data_dir = nltk.data.find('chunkers/maxent_ne_chunker')\n",
    "    if not data_dir:\n",
    "        nltk.download('maxent_ne_chunker', download_dir='.')\n",
    "    data_dir = nltk.data.find('corpora/words')\n",
    "    if not data_dir:\n",
    "        nltk.download('words', download_dir='.')"
   ]
  },
  {
   "cell_type": "code",
   "execution_count": null,
   "metadata": {},
   "outputs": [],
   "source": [
    "from nltk import word_tokenize, pos_tag, ne_chunk\n",
    "\n",
    "def extract_entities(text_file):\n",
    "    with open(text_file, 'r') as f:\n",
    "        text = f.read()\n",
    "    entities = {}\n",
    "    for sent in nltk.sent_tokenize(text):\n",
    "        for chunk in nltk.ne_chunk(nltk.pos_tag(nltk.word_tokenize(sent))):\n",
    "            if hasattr(chunk, 'label'):\n",
    "                entity = ' '.join(c[0] for c in chunk)\n",
    "                entities[entity] = entities.get(entity, 0) + 1\n",
    "    return entities\n",
    "\n",
    "text_file = \"sample.txt\"\n",
    "entities = extract_entities(text_file)\n",
    "print(entities)"
   ]
  }
 ],
 "metadata": {
  "kernelspec": {
   "display_name": "Python 3",
   "language": "python",
   "name": "python3"
  },
  "language_info": {
   "codemirror_mode": {
    "name": "ipython",
    "version": 3
   },
   "file_extension": ".py",
   "mimetype": "text/x-python",
   "name": "python",
   "nbconvert_exporter": "python",
   "pygments_lexer": "ipython3",
   "version": "3.10.9"
  },
  "orig_nbformat": 4,
  "vscode": {
   "interpreter": {
    "hash": "b0fa6594d8f4cbf19f97940f81e996739fb7646882a419484c72d19e05852a7e"
   }
  }
 },
 "nbformat": 4,
 "nbformat_minor": 2
}
